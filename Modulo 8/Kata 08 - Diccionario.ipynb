{
 "cells": [
  {
   "cell_type": "markdown",
   "metadata": {},
   "source": [
    "# Diccionarios\n",
    "Ejercicio 1"
   ]
  },
  {
   "cell_type": "code",
   "execution_count": 4,
   "metadata": {},
   "outputs": [
    {
     "name": "stdout",
     "output_type": "stream",
     "text": [
      "Marte has 2 lunas\n",
      "Marte tiene una circunferencia polar de 6752\n"
     ]
    }
   ],
   "source": [
    "# Crea un diccionario\n",
    "planeta = {\n",
    "    'nombre': 'Marte',\n",
    "    'lunas': 2\n",
    "}\n",
    "\n",
    "# Muestra el nombre del planeta y el número de lunas\n",
    "print(f'{planeta[\"nombre\"]} has {planeta[\"lunas\"]} lunas')\n",
    "\n",
    "# Agrega la circunferencia\n",
    "planeta['circunferencia (km)'] = {\n",
    "    'polar': 6752,\n",
    "    'equatorial': 6792\n",
    "}\n",
    "\n",
    "# Imprime el nombre del planeta con su circunferencia.\n",
    "print(f'{planeta[\"nombre\"]} tiene una circunferencia polar de {planeta[\"circunferencia (km)\"][\"polar\"]}')\n",
    "\n"
   ]
  },
  {
   "cell_type": "markdown",
   "metadata": {},
   "source": [
    "Ejercicio 2"
   ]
  },
  {
   "cell_type": "code",
   "execution_count": 7,
   "metadata": {},
   "outputs": [
    {
     "name": "stdout",
     "output_type": "stream",
     "text": [
      "17.833333333333332\n"
     ]
    }
   ],
   "source": [
    "# Planets and moons\n",
    "\n",
    "planeta_lunas = {\n",
    "    'mercurio': 0,\n",
    "    'venus': 0,\n",
    "    'tierra': 1,\n",
    "    'marte': 2,\n",
    "    'jupiter': 79,\n",
    "    'saturno': 82,\n",
    "    'urano': 27,\n",
    "    'neptunp': 14,\n",
    "    'pluton': 5,\n",
    "    'haumea': 2,\n",
    "    'makemake': 1,\n",
    "    'eris': 1\n",
    "}\n",
    "\n",
    "# Lista de las lunas\n",
    "lunas = planeta_lunas.values()\n",
    "\n",
    "# Total de planetas\n",
    "planeta = len(planeta_lunas.keys())\n",
    "\n",
    "# Calcula el total de las lunas\n",
    "total_lunas = 0\n",
    "for luna in lunas:\n",
    "    total_lunas = total_lunas + luna\n",
    "\n",
    "# Calcula el promedio\n",
    "promeido = total_lunas / planeta\n",
    "\n",
    "# Muestra el promedio\n",
    "print(promeido)\n",
    "\n"
   ]
  }
 ],
 "metadata": {
  "interpreter": {
   "hash": "d4324ca6559f36eac0e425efadea2e92a15bcc52fc8b07414d33a8b87ada9d79"
  },
  "kernelspec": {
   "display_name": "Python 3.10.2 64-bit",
   "language": "python",
   "name": "python3"
  },
  "language_info": {
   "codemirror_mode": {
    "name": "ipython",
    "version": 3
   },
   "file_extension": ".py",
   "mimetype": "text/x-python",
   "name": "python",
   "nbconvert_exporter": "python",
   "pygments_lexer": "ipython3",
   "version": "3.10.2"
  },
  "orig_nbformat": 4
 },
 "nbformat": 4,
 "nbformat_minor": 2
}
