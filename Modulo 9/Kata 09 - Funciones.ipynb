{
 "cells": [
  {
   "cell_type": "markdown",
   "metadata": {},
   "source": [
    "# Funciones\n",
    "Ejercicio 1"
   ]
  },
  {
   "cell_type": "code",
   "execution_count": 5,
   "metadata": {},
   "outputs": [
    {
     "name": "stdout",
     "output_type": "stream",
     "text": [
      "Reporte:\n",
      "    Promedio Total: 81.66666666666667%\n",
      "    Primer Tanque: 90%\n",
      "    Segundo Tanque: 70%\n",
      "    Tercer Tanque: 85% \n",
      "    \n",
      "Reporte:\n",
      "    Promedio Total: 81.33333333333333%\n",
      "    Primer Tanque: 98%\n",
      "    Segundo Tanque: 76%\n",
      "    Tercer Tanque: 70% \n",
      "    \n"
     ]
    }
   ],
   "source": [
    "# Función para leer 3 tanques de combustible\n",
    "def genera_reporte(primer_tanque, segundo_tanque, tercer_tanque):\n",
    "    total_promedio = (primer_tanque + segundo_tanque + tercer_tanque) / 3\n",
    "    return f\"\"\"Reporte:\n",
    "    Promedio Total: {total_promedio}%\n",
    "    Primer Tanque: {primer_tanque}%\n",
    "    Segundo Tanque: {segundo_tanque}%\n",
    "    Tercer Tanque: {tercer_tanque}% \n",
    "    \"\"\"\n",
    "\n",
    "# Llamamos a la función\n",
    "print(genera_reporte(90, 70, 85))\n",
    "\n",
    "# Función promedio \n",
    "def promedio(valores):\n",
    "    total = sum(valores)\n",
    "    numero_tanques = len(valores)\n",
    "    return total / numero_tanques\n",
    "\n",
    "\n",
    "# Actualiza la función\n",
    "def genera_reporte(primer_tanque, segundo_tanque, tercer_tanque):\n",
    "    return f\"\"\"Reporte:\n",
    "    Promedio Total: {promedio([primer_tanque, segundo_tanque, tercer_tanque])}%\n",
    "    Primer Tanque: {primer_tanque}%\n",
    "    Segundo Tanque: {segundo_tanque}%\n",
    "    Tercer Tanque: {tercer_tanque}% \n",
    "    \"\"\"\n",
    "\n",
    "# Call the updated function again with different values\n",
    "print(genera_reporte(98, 76, 70))\n",
    "\n"
   ]
  },
  {
   "cell_type": "markdown",
   "metadata": {},
   "source": [
    "Ejercicio 2"
   ]
  },
  {
   "cell_type": "code",
   "execution_count": 15,
   "metadata": {},
   "outputs": [
    {
     "name": "stdout",
     "output_type": "stream",
     "text": [
      "\n",
      "    Mision a Luna\n",
      "    Tiempo total de viaje: 65 minutos\n",
      "    Combustible disponible: 500000 litros\n",
      "    \n",
      "\n",
      "    Mision a Luna\n",
      "    Tiempo total de viaje: 76 minutos\n",
      "    Combustible disponible: 500000\n",
      "    \n",
      "\n",
      "    Mision a Luna\n",
      "    Tiempo total de viaje: 74 minutos\n",
      "    Combustible disponible: 500000\n",
      "    \n",
      "tanque principal --> 300000 litros disponibles\n",
      "tanque externo --> 200000 litros disponibles\n"
     ]
    }
   ],
   "source": [
    "# Informe\n",
    "def reporte_mision(tiempo_previo, tiempo_vuelo, destino, tanque_auxiliar, tanque_principal):\n",
    "    return f\"\"\"\n",
    "    Mision a {destino}\n",
    "    Tiempo total de viaje: {tiempo_previo + tiempo_vuelo} minutos\n",
    "    Combustible disponible: {tanque_auxiliar + tanque_principal} litros\n",
    "    \"\"\"\n",
    "\n",
    "print(reporte_mision(14, 51, \"Luna\", 200000, 300000))\n",
    "\n",
    "# Sobrescrivir funcion\n",
    "\n",
    "def reporte_mision(destino, *minutos, **reserva_combustible):\n",
    "    return f\"\"\"\n",
    "    Mision a {destino}\n",
    "    Tiempo total de viaje: {sum(minutos)} minutos\n",
    "    Combustible disponible: {sum(reserva_combustible.values())}\n",
    "    \"\"\"\n",
    "\n",
    "print(reporte_mision(\"Luna\", 10, 15, 51, principal=300000, externo=200000))\n",
    "\n",
    "# Escribe tu nueva función\n",
    "\n",
    "def reporte_mision(destino, *minutos, **reserva_combustible):\n",
    "    reporte_principal = f\"\"\"\n",
    "    Mision a {destino}\n",
    "    Tiempo total de viaje: {sum(minutos)} minutos\n",
    "    Combustible disponible: {sum(reserva_combustible.values())}\n",
    "    \"\"\"\n",
    "    for nombre_tanque, litros in reserva_combustible.items():\n",
    "        reporte_principal += f\"\\n tanque {nombre_tanque} --> {litros} litros disponibles\"\n",
    "    return reporte_principal\n",
    "\n",
    "print(reporte_mision(\"Luna\", 8, 11, 55, principal=300000, externo=200000))"
   ]
  }
 ],
 "metadata": {
  "interpreter": {
   "hash": "d4324ca6559f36eac0e425efadea2e92a15bcc52fc8b07414d33a8b87ada9d79"
  },
  "kernelspec": {
   "display_name": "Python 3.10.2 64-bit",
   "language": "python",
   "name": "python3"
  },
  "language_info": {
   "codemirror_mode": {
    "name": "ipython",
    "version": 3
   },
   "file_extension": ".py",
   "mimetype": "text/x-python",
   "name": "python",
   "nbconvert_exporter": "python",
   "pygments_lexer": "ipython3",
   "version": "3.10.2"
  },
  "orig_nbformat": 4
 },
 "nbformat": 4,
 "nbformat_minor": 2
}
